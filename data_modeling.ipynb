{
 "cells": [
  {
   "cell_type": "code",
   "execution_count": 1,
   "metadata": {
    "_uuid": "005dc76f4199cb8bc738c7694cc55848a590d526"
   },
   "outputs": [],
   "source": [
    "import pandas as pd\n",
    "import numpy as np\n",
    "#To get date time\n",
    "import datetime as dt\n",
    "#For plotting purposes\n",
    "import matplotlib.pyplot as plt\n",
    "# set options\n",
    "pd.options.display.max_colwidth = 50\n",
    "pd.set_option('display.max_colwidth', -1) \n",
    "pd.options.mode.chained_assignment = None  # default='warn'"
   ]
  },
  {
   "cell_type": "markdown",
   "metadata": {
    "_uuid": "2887c9658342ae75b6fa3b2f15c215884becdb54"
   },
   "source": [
    "## Loading data"
   ]
  },
  {
   "cell_type": "code",
   "execution_count": 99,
   "metadata": {
    "_uuid": "8e3c3f3d48f75d21ede5b076d3c1e89eb688e631"
   },
   "outputs": [],
   "source": [
    "#This is the file generated after preprocessing and LDA\n",
    "food_reviews = pd.read_csv('processd_food_reviews.txt', sep = '\\t')"
   ]
  },
  {
   "cell_type": "code",
   "execution_count": 3,
   "metadata": {
    "_uuid": "f56de5994419bc5bed1d2409b7f785c84cb58ead",
    "scrolled": true
   },
   "outputs": [
    {
     "data": {
      "text/html": [
       "<div>\n",
       "<style scoped>\n",
       "    .dataframe tbody tr th:only-of-type {\n",
       "        vertical-align: middle;\n",
       "    }\n",
       "\n",
       "    .dataframe tbody tr th {\n",
       "        vertical-align: top;\n",
       "    }\n",
       "\n",
       "    .dataframe thead th {\n",
       "        text-align: right;\n",
       "    }\n",
       "</style>\n",
       "<table border=\"1\" class=\"dataframe\">\n",
       "  <thead>\n",
       "    <tr style=\"text-align: right;\">\n",
       "      <th></th>\n",
       "      <th>productid</th>\n",
       "      <th>userid</th>\n",
       "      <th>username</th>\n",
       "      <th>time</th>\n",
       "      <th>year</th>\n",
       "      <th>month</th>\n",
       "      <th>helpful_upvotes</th>\n",
       "      <th>helpful_responses</th>\n",
       "      <th>helpfulness_score</th>\n",
       "      <th>rating</th>\n",
       "      <th>sentiment</th>\n",
       "      <th>text_ext</th>\n",
       "      <th>summary</th>\n",
       "      <th>text</th>\n",
       "    </tr>\n",
       "  </thead>\n",
       "  <tbody>\n",
       "    <tr>\n",
       "      <th>525530</th>\n",
       "      <td>B001EO7N10</td>\n",
       "      <td>A28KG5XORO54AY</td>\n",
       "      <td>Lettie D. Carter</td>\n",
       "      <td>2011-03-09</td>\n",
       "      <td>2011</td>\n",
       "      <td>3</td>\n",
       "      <td>0.0</td>\n",
       "      <td>0.0</td>\n",
       "      <td>-1.0</td>\n",
       "      <td>5.0</td>\n",
       "      <td>1</td>\n",
       "      <td>Will not do without Great for sesame chicken..this is a good if not better than resturants I have eaten at..My husband loved it..will find other recipes to use this in..</td>\n",
       "      <td>Will not do without</td>\n",
       "      <td>Great for sesame chicken..this is a good if not better than resturants I have eaten at..My husband loved it..will find other recipes to use this in..</td>\n",
       "    </tr>\n",
       "    <tr>\n",
       "      <th>525531</th>\n",
       "      <td>B003S1WTCU</td>\n",
       "      <td>A3I8AFVPEE8KI5</td>\n",
       "      <td>R. Sawyer</td>\n",
       "      <td>2012-03-09</td>\n",
       "      <td>2012</td>\n",
       "      <td>3</td>\n",
       "      <td>0.0</td>\n",
       "      <td>0.0</td>\n",
       "      <td>-1.0</td>\n",
       "      <td>2.0</td>\n",
       "      <td>0</td>\n",
       "      <td>disappointed I'm disappointed with the flavor. The chocolate notes are especially weak. Milk thickens it but the flavor still disappoints. This was worth a try but I'll never buy again. I will use what's left, which will be gone in no time thanks to the small cans.</td>\n",
       "      <td>disappointed</td>\n",
       "      <td>I'm disappointed with the flavor. The chocolate notes are especially weak. Milk thickens it but the flavor still disappoints. This was worth a try but I'll never buy again. I will use what's left, which will be gone in no time thanks to the small cans.</td>\n",
       "    </tr>\n",
       "    <tr>\n",
       "      <th>525532</th>\n",
       "      <td>B004I613EE</td>\n",
       "      <td>A121AA1GQV751Z</td>\n",
       "      <td>pksd \"pk_007\"</td>\n",
       "      <td>2012-02-21</td>\n",
       "      <td>2012</td>\n",
       "      <td>2</td>\n",
       "      <td>2.0</td>\n",
       "      <td>2.0</td>\n",
       "      <td>1.0</td>\n",
       "      <td>5.0</td>\n",
       "      <td>1</td>\n",
       "      <td>Perfect for our maltipoo These stars are small, so you can give 10-15 of those in one training session.  I tried to train our dog with \"Ceaser dog treats\",  it just made our puppy hyper.  If you compare the ingredients, you will know why.  Little stars has just basic food ingredients without any preservatives and food coloring.  Sweet potato flavor also did not make my hand smell like dog food.</td>\n",
       "      <td>Perfect for our maltipoo</td>\n",
       "      <td>These stars are small, so you can give 10-15 of those in one training session.  I tried to train our dog with \"Ceaser dog treats\",  it just made our puppy hyper.  If you compare the ingredients, you will know why.  Little stars has just basic food ingredients without any preservatives and food coloring.  Sweet potato flavor also did not make my hand smell like dog food.</td>\n",
       "    </tr>\n",
       "    <tr>\n",
       "      <th>525533</th>\n",
       "      <td>B004I613EE</td>\n",
       "      <td>A3IBEVCTXKNOH</td>\n",
       "      <td>Kathy A. Welch \"katwel\"</td>\n",
       "      <td>2012-03-13</td>\n",
       "      <td>2012</td>\n",
       "      <td>3</td>\n",
       "      <td>1.0</td>\n",
       "      <td>1.0</td>\n",
       "      <td>1.0</td>\n",
       "      <td>5.0</td>\n",
       "      <td>1</td>\n",
       "      <td>Favorite Training and reward treat These are the BEST treats for training and rewarding your dog for being good while grooming.  Lower in calories and loved by all the doggies.  Sweet potatoes seem to be their favorite Wet Noses treat!</td>\n",
       "      <td>Favorite Training and reward treat</td>\n",
       "      <td>These are the BEST treats for training and rewarding your dog for being good while grooming.  Lower in calories and loved by all the doggies.  Sweet potatoes seem to be their favorite Wet Noses treat!</td>\n",
       "    </tr>\n",
       "    <tr>\n",
       "      <th>525534</th>\n",
       "      <td>B001LR2CU2</td>\n",
       "      <td>A3LGQPJCZVL9UC</td>\n",
       "      <td>srfell17</td>\n",
       "      <td>2012-05-31</td>\n",
       "      <td>2012</td>\n",
       "      <td>5</td>\n",
       "      <td>0.0</td>\n",
       "      <td>0.0</td>\n",
       "      <td>-1.0</td>\n",
       "      <td>5.0</td>\n",
       "      <td>1</td>\n",
       "      <td>Great Honey I am very satisfied ,product is as advertised, I use it on cereal, with raw vinegar, and as a general sweetner.</td>\n",
       "      <td>Great Honey</td>\n",
       "      <td>I am very satisfied ,product is as advertised, I use it on cereal, with raw vinegar, and as a general sweetner.</td>\n",
       "    </tr>\n",
       "  </tbody>\n",
       "</table>\n",
       "</div>"
      ],
      "text/plain": [
       "         productid          userid                 username        time  year  \\\n",
       "525530  B001EO7N10  A28KG5XORO54AY  Lettie D. Carter         2011-03-09  2011   \n",
       "525531  B003S1WTCU  A3I8AFVPEE8KI5  R. Sawyer                2012-03-09  2012   \n",
       "525532  B004I613EE  A121AA1GQV751Z  pksd \"pk_007\"            2012-02-21  2012   \n",
       "525533  B004I613EE  A3IBEVCTXKNOH   Kathy A. Welch \"katwel\"  2012-03-13  2012   \n",
       "525534  B001LR2CU2  A3LGQPJCZVL9UC  srfell17                 2012-05-31  2012   \n",
       "\n",
       "        month  helpful_upvotes  helpful_responses  helpfulness_score  rating  \\\n",
       "525530  3      0.0              0.0               -1.0                5.0      \n",
       "525531  3      0.0              0.0               -1.0                2.0      \n",
       "525532  2      2.0              2.0                1.0                5.0      \n",
       "525533  3      1.0              1.0                1.0                5.0      \n",
       "525534  5      0.0              0.0               -1.0                5.0      \n",
       "\n",
       "        sentiment  \\\n",
       "525530  1           \n",
       "525531  0           \n",
       "525532  1           \n",
       "525533  1           \n",
       "525534  1           \n",
       "\n",
       "                                                                                                                                                                                                                                                                                                                                                                                                             text_ext  \\\n",
       "525530  Will not do without Great for sesame chicken..this is a good if not better than resturants I have eaten at..My husband loved it..will find other recipes to use this in..                                                                                                                                                                                                                                       \n",
       "525531  disappointed I'm disappointed with the flavor. The chocolate notes are especially weak. Milk thickens it but the flavor still disappoints. This was worth a try but I'll never buy again. I will use what's left, which will be gone in no time thanks to the small cans.                                                                                                                                       \n",
       "525532  Perfect for our maltipoo These stars are small, so you can give 10-15 of those in one training session.  I tried to train our dog with \"Ceaser dog treats\",  it just made our puppy hyper.  If you compare the ingredients, you will know why.  Little stars has just basic food ingredients without any preservatives and food coloring.  Sweet potato flavor also did not make my hand smell like dog food.   \n",
       "525533  Favorite Training and reward treat These are the BEST treats for training and rewarding your dog for being good while grooming.  Lower in calories and loved by all the doggies.  Sweet potatoes seem to be their favorite Wet Noses treat!                                                                                                                                                                     \n",
       "525534  Great Honey I am very satisfied ,product is as advertised, I use it on cereal, with raw vinegar, and as a general sweetner.                                                                                                                                                                                                                                                                                     \n",
       "\n",
       "                                   summary  \\\n",
       "525530  Will not do without                  \n",
       "525531  disappointed                         \n",
       "525532  Perfect for our maltipoo             \n",
       "525533  Favorite Training and reward treat   \n",
       "525534  Great Honey                          \n",
       "\n",
       "                                                                                                                                                                                                                                                                                                                                                                                        text  \n",
       "525530  Great for sesame chicken..this is a good if not better than resturants I have eaten at..My husband loved it..will find other recipes to use this in..                                                                                                                                                                                                                                 \n",
       "525531  I'm disappointed with the flavor. The chocolate notes are especially weak. Milk thickens it but the flavor still disappoints. This was worth a try but I'll never buy again. I will use what's left, which will be gone in no time thanks to the small cans.                                                                                                                          \n",
       "525532  These stars are small, so you can give 10-15 of those in one training session.  I tried to train our dog with \"Ceaser dog treats\",  it just made our puppy hyper.  If you compare the ingredients, you will know why.  Little stars has just basic food ingredients without any preservatives and food coloring.  Sweet potato flavor also did not make my hand smell like dog food.  \n",
       "525533  These are the BEST treats for training and rewarding your dog for being good while grooming.  Lower in calories and loved by all the doggies.  Sweet potatoes seem to be their favorite Wet Noses treat!                                                                                                                                                                              \n",
       "525534  I am very satisfied ,product is as advertised, I use it on cereal, with raw vinegar, and as a general sweetner.                                                                                                                                                                                                                                                                       "
      ]
     },
     "execution_count": 3,
     "metadata": {},
     "output_type": "execute_result"
    }
   ],
   "source": [
    "food_reviews = food_reviews.iloc[ : , 1 : len(food_reviews.columns)]\n",
    "food_reviews.tail()"
   ]
  },
  {
   "cell_type": "markdown",
   "metadata": {
    "_uuid": "82a1b202eb252da9de2041dc3518882f96a340fd"
   },
   "source": [
    "## Pre-processing data"
   ]
  },
  {
   "cell_type": "markdown",
   "metadata": {
    "_uuid": "a6892c996307b8901e7755d02469bb411e3d7605"
   },
   "source": [
    "* renaming columns\n",
    "* checking datatype\n",
    "* dealing with null values - impute for summary, removal of rest\n",
    "* reindexing of data\n",
    "* conversion of timestamp to date\n",
    "* features - creation of helfulness_score, extended review\n",
    "* removal of neutral reviews - with rating 3\n",
    "* classificaton of positive and negative sentiment into 0 and 1"
   ]
  },
  {
   "cell_type": "markdown",
   "metadata": {},
   "source": [
    "## Taking a sample of 1% data and carrying out model building on it!"
   ]
  },
  {
   "cell_type": "code",
   "execution_count": 4,
   "metadata": {},
   "outputs": [],
   "source": [
    "food_review_sample = food_reviews.sample(frac = 0.01)"
   ]
  },
  {
   "cell_type": "code",
   "execution_count": 5,
   "metadata": {},
   "outputs": [
    {
     "data": {
      "text/plain": [
       "(5255, 14)"
      ]
     },
     "execution_count": 5,
     "metadata": {},
     "output_type": "execute_result"
    }
   ],
   "source": [
    "food_review_sample.shape"
   ]
  },
  {
   "cell_type": "code",
   "execution_count": 6,
   "metadata": {},
   "outputs": [
    {
     "data": {
      "text/plain": [
       "4013"
      ]
     },
     "execution_count": 6,
     "metadata": {},
     "output_type": "execute_result"
    }
   ],
   "source": [
    "len(food_review_sample.productid.unique())"
   ]
  },
  {
   "cell_type": "markdown",
   "metadata": {},
   "source": [
    "#### Carrying out LDA on it"
   ]
  },
  {
   "cell_type": "markdown",
   "metadata": {
    "_uuid": "1a32982a4c7372a22d4f6f2d3215c1fabc1b38a7"
   },
   "source": [
    "#### Text Processing - Conversion to lower case, stemming, stop words removal, and punctuations. "
   ]
  },
  {
   "cell_type": "code",
   "execution_count": 7,
   "metadata": {
    "_uuid": "7dde3992b851a3d83c3c33cc7eca3e3119b20645"
   },
   "outputs": [],
   "source": [
    "#Package for stemming and getting stopwords\n",
    "from nltk.stem import PorterStemmer\n",
    "from nltk.corpus import stopwords"
   ]
  },
  {
   "cell_type": "code",
   "execution_count": 8,
   "metadata": {},
   "outputs": [
    {
     "name": "stderr",
     "output_type": "stream",
     "text": [
      "C:\\ProgramData\\Anaconda3\\lib\\site-packages\\gensim\\utils.py:1212: UserWarning: detected Windows; aliasing chunkize to chunkize_serial\n",
      "  warnings.warn(\"detected Windows; aliasing chunkize to chunkize_serial\")\n"
     ]
    }
   ],
   "source": [
    "#Packages for word tokenization and getting the word2vec\n",
    "from nltk.tokenize import word_tokenize\n",
    "from gensim.models import Word2Vec"
   ]
  },
  {
   "cell_type": "code",
   "execution_count": 9,
   "metadata": {
    "_uuid": "334b2d757dbc9485bf2b260276c00ae8558670ef",
    "scrolled": true
   },
   "outputs": [
    {
     "name": "stderr",
     "output_type": "stream",
     "text": [
      "C:\\ProgramData\\Anaconda3\\lib\\site-packages\\sklearn\\cross_validation.py:41: DeprecationWarning: This module was deprecated in version 0.18 in favor of the model_selection module into which all the refactored classes and functions are moved. Also note that the interface of the new CV iterators are different from that of this module. This module will be removed in 0.20.\n",
      "  \"This module will be removed in 0.20.\", DeprecationWarning)\n"
     ]
    }
   ],
   "source": [
    "#Packages to perform logisic regression and perform cross- validation\n",
    "from sklearn.linear_model import LogisticRegression\n",
    "from sklearn import metrics\n",
    "from sklearn import cross_validation\n",
    "from sklearn.metrics import f1_score"
   ]
  },
  {
   "cell_type": "code",
   "execution_count": 10,
   "metadata": {
    "_uuid": "89c61f638bc26af3aa489a27d881ecdba02ec359"
   },
   "outputs": [],
   "source": [
    "#Using porter stemmer to stem the words\n",
    "stemmer = PorterStemmer()\n",
    "food_review_sample['review_tokens'] = food_review_sample['text'].str.lower().apply(lambda x: word_tokenize(x))\n",
    "food_review_sample['review_tokens'] = food_review_sample['review_tokens'].apply(lambda x: [stemmer.stem(words) for words in x])"
   ]
  },
  {
   "cell_type": "code",
   "execution_count": 11,
   "metadata": {
    "_uuid": "3d2f7453c5f92351c7e4e244ee48fa70678f25af"
   },
   "outputs": [],
   "source": [
    "def remove_punctuations_and_stopwords(x):\n",
    "    #This function iterates through a list and removes any words that are punctuations or stopwords.\n",
    "    y = []\n",
    "    stop_words = set(stopwords.words('english'))\n",
    "    for i in range(len(x)):\n",
    "        if x[i].isalnum() and x[i] not in stop_words:\n",
    "            y.extend([x[i]])\n",
    "    return y        "
   ]
  },
  {
   "cell_type": "code",
   "execution_count": 12,
   "metadata": {
    "_uuid": "7df5a26b2565cebc5103dda47876efe06565657a"
   },
   "outputs": [],
   "source": [
    "food_review_sample['review_tokens'] = food_review_sample['review_tokens'].apply(remove_punctuations_and_stopwords)"
   ]
  },
  {
   "cell_type": "code",
   "execution_count": 13,
   "metadata": {
    "_uuid": "4ac0c4cbfb528881b1d74adda478f994f07f0d18"
   },
   "outputs": [],
   "source": [
    "#Package to pre process\n",
    "import gensim\n",
    "from gensim.utils import simple_preprocess"
   ]
  },
  {
   "cell_type": "code",
   "execution_count": 14,
   "metadata": {
    "_uuid": "bb40ae51437fe4b73e92d5d653d5cd6f35e497ff"
   },
   "outputs": [],
   "source": [
    "#Builds a corpus of words\n",
    "dictionary = gensim.corpora.Dictionary(food_review_sample.review_tokens)\n",
    "bow_corpus = [dictionary.doc2bow(doc) for doc in food_review_sample.review_tokens]"
   ]
  },
  {
   "cell_type": "code",
   "execution_count": 15,
   "metadata": {
    "_uuid": "d37c1958cc85d3f0d0b0755f9f4db8a81e50c030"
   },
   "outputs": [],
   "source": [
    "#Building the LDA model\n",
    "ldamodel = gensim.models.ldamodel.LdaModel(bow_corpus, num_topics = 50, id2word=dictionary, passes=15, minimum_probability= 0)"
   ]
  },
  {
   "cell_type": "code",
   "execution_count": 16,
   "metadata": {},
   "outputs": [],
   "source": [
    "#Gets the lda in a useable dataframe\n",
    "lda_df = pd.DataFrame()\n",
    "for i in range(0, len(food_review_sample)):\n",
    "    lda_df = pd.concat([lda_df, pd.DataFrame(ldamodel.get_document_topics(bow_corpus[i]))[1]], axis=1)\n",
    "    \n",
    "lda_df = lda_df.transpose()    "
   ]
  },
  {
   "cell_type": "code",
   "execution_count": 17,
   "metadata": {
    "_uuid": "f1407ea7247e9369f6a2f8ee322cc42d8ff14499"
   },
   "outputs": [
    {
     "name": "stdout",
     "output_type": "stream",
     "text": [
      "0.8485252140818268\n"
     ]
    }
   ],
   "source": [
    "#Performing logistic regression with 10-fold CV\n",
    "predicted = cross_validation.cross_val_predict(LogisticRegression(), lda_df, food_review_sample['sentiment'], cv=10)\n",
    "print(metrics.accuracy_score(food_review_sample['sentiment'], predicted))"
   ]
  },
  {
   "cell_type": "markdown",
   "metadata": {
    "_uuid": "334b2d757dbc9485bf2b260276c00ae8558670ef"
   },
   "source": [
    "84.85% Accuracy."
   ]
  },
  {
   "cell_type": "code",
   "execution_count": 20,
   "metadata": {},
   "outputs": [
    {
     "data": {
      "image/png": "[encoded data removed]",
      "text/plain": [
       "<Figure size 432x288 with 1 Axes>"
      ]
     },
     "metadata": {},
     "output_type": "display_data"
    }
   ],
   "source": [
    "#Code to print the ROC curve\n",
    "fpr, tpr, _ = metrics.roc_curve(food_review_sample['sentiment'],  predicted)\n",
    "auc = metrics.roc_auc_score(food_review_sample['sentiment'], predicted)\n",
    "plt.plot(fpr, tpr, label = \"data 1, auc = \" + str(auc)) #Area under curve\n",
    "plt.legend(loc=4)\n",
    "plt.show()"
   ]
  },
  {
   "cell_type": "code",
   "execution_count": 25,
   "metadata": {},
   "outputs": [
    {
     "data": {
      "text/plain": [
       "0.7871128390038634"
      ]
     },
     "execution_count": 25,
     "metadata": {},
     "output_type": "execute_result"
    }
   ],
   "source": [
    "#Calculating the f1 score\n",
    "f1_score(food_review_sample['sentiment'], predicted, average='weighted')  "
   ]
  },
  {
   "cell_type": "markdown",
   "metadata": {},
   "source": [
    "#### Carrying the same analysis on the extended text column"
   ]
  },
  {
   "cell_type": "code",
   "execution_count": 26,
   "metadata": {},
   "outputs": [],
   "source": [
    "#Lower casing, tokenizing, stemmatization, and removing punctuations and stopwords\n",
    "food_review_sample['review_tokens'] = food_review_sample['text_ext'].str.lower().apply(lambda x: word_tokenize(x))\n",
    "food_review_sample['review_tokens'] = food_review_sample['review_tokens'].apply(lambda x: [stemmer.stem(words) for words in x])\n",
    "food_review_sample['review_tokens'] = food_review_sample['review_tokens'].apply(remove_punctuations_and_stopwords)"
   ]
  },
  {
   "cell_type": "code",
   "execution_count": 27,
   "metadata": {
    "_uuid": "bb40ae51437fe4b73e92d5d653d5cd6f35e497ff"
   },
   "outputs": [],
   "source": [
    "#Building a corpus\n",
    "dictionary = gensim.corpora.Dictionary(food_review_sample.review_tokens)\n",
    "bow_corpus = [dictionary.doc2bow(doc) for doc in food_review_sample.review_tokens]"
   ]
  },
  {
   "cell_type": "code",
   "execution_count": 28,
   "metadata": {
    "_uuid": "d37c1958cc85d3f0d0b0755f9f4db8a81e50c030"
   },
   "outputs": [],
   "source": [
    "#Making the LDA model\n",
    "ldamodel = gensim.models.ldamodel.LdaModel(bow_corpus, num_topics = 50, id2word=dictionary, passes=15, minimum_probability= 0)"
   ]
  },
  {
   "cell_type": "code",
   "execution_count": 29,
   "metadata": {},
   "outputs": [],
   "source": [
    "lda_df = pd.DataFrame()\n",
    "for i in range(0, len(food_review_sample)):\n",
    "    lda_df = pd.concat([lda_df, pd.DataFrame(ldamodel.get_document_topics(bow_corpus[i]))[1]], axis=1)\n",
    "    \n",
    "lda_df = lda_df.transpose()    "
   ]
  },
  {
   "cell_type": "code",
   "execution_count": 30,
   "metadata": {
    "_uuid": "f1407ea7247e9369f6a2f8ee322cc42d8ff14499"
   },
   "outputs": [
    {
     "name": "stdout",
     "output_type": "stream",
     "text": [
      "0.8610846812559467\n"
     ]
    }
   ],
   "source": [
    "#Performing logistic regression with 10-fold CV\n",
    "predicted = cross_validation.cross_val_predict(LogisticRegression(), lda_df, food_review_sample['sentiment'], cv=10)\n",
    "print(metrics.accuracy_score(food_review_sample['sentiment'], predicted))"
   ]
  },
  {
   "cell_type": "markdown",
   "metadata": {
    "_uuid": "334b2d757dbc9485bf2b260276c00ae8558670ef"
   },
   "source": [
    "86.1% Accuracy."
   ]
  },
  {
   "cell_type": "code",
   "execution_count": 31,
   "metadata": {},
   "outputs": [
    {
     "data": {
      "image/png": "[encoded data removed]",
      "text/plain": [
       "<Figure size 432x288 with 1 Axes>"
      ]
     },
     "metadata": {},
     "output_type": "display_data"
    }
   ],
   "source": [
    "#Code to print the ROC curve\n",
    "fpr, tpr, _ = metrics.roc_curve(food_review_sample['sentiment'],  predicted)\n",
    "auc = metrics.roc_auc_score(food_review_sample['sentiment'], predicted)\n",
    "plt.plot(fpr, tpr, label = \"data 1, auc = \" + str(auc)) #Area under curve\n",
    "plt.legend(loc=4)\n",
    "plt.show()"
   ]
  },
  {
   "cell_type": "code",
   "execution_count": 32,
   "metadata": {},
   "outputs": [
    {
     "data": {
      "text/plain": [
       "0.8166618048497607"
      ]
     },
     "execution_count": 32,
     "metadata": {},
     "output_type": "execute_result"
    }
   ],
   "source": [
    "f1_score(food_review_sample['sentiment'], predicted, average='weighted')  "
   ]
  },
  {
   "cell_type": "markdown",
   "metadata": {},
   "source": [
    "It is clear that extended text is a better predictor in this case. Sticking to that."
   ]
  },
  {
   "cell_type": "markdown",
   "metadata": {},
   "source": [
    "#### Implementing decision tree instead of logistic regression on the lda data frame "
   ]
  },
  {
   "cell_type": "code",
   "execution_count": 79,
   "metadata": {},
   "outputs": [],
   "source": [
    "from sklearn import tree"
   ]
  },
  {
   "cell_type": "code",
   "execution_count": 90,
   "metadata": {},
   "outputs": [],
   "source": [
    "from random import sample\n",
    "test_index = sample(range(0, len(food_review_sample)), int(0.7 * len(food_review_sample)))"
   ]
  },
  {
   "cell_type": "code",
   "execution_count": 95,
   "metadata": {},
   "outputs": [],
   "source": [
    "valid_index = [item for item in food_review_sample.index if item not in test_index]"
   ]
  },
  {
   "cell_type": "code",
   "execution_count": 94,
   "metadata": {},
   "outputs": [],
   "source": [
    "#Building the decision tree\n",
    "clf = tree.DecisionTreeClassifier()\n",
    "clf = clf.fit(lda_df.iloc[test_index], food_review_sample.iloc[test_index]['sentiment'])"
   ]
  },
  {
   "cell_type": "code",
   "execution_count": 96,
   "metadata": {},
   "outputs": [
    {
     "data": {
      "text/plain": [
       "0.7907419150285352"
      ]
     },
     "execution_count": 96,
     "metadata": {},
     "output_type": "execute_result"
    }
   ],
   "source": [
    "metrics.accuracy_score(food_review_sample.iloc[valid_index]['sentiment'], clf.predict(lda_df.iloc[valid_index]))"
   ]
  },
  {
   "cell_type": "markdown",
   "metadata": {},
   "source": [
    "Accuracy of 79.07%"
   ]
  },
  {
   "cell_type": "code",
   "execution_count": 97,
   "metadata": {},
   "outputs": [
    {
     "data": {
      "image/png": "[encoded data removed]",
      "text/plain": [
       "<Figure size 432x288 with 1 Axes>"
      ]
     },
     "metadata": {},
     "output_type": "display_data"
    }
   ],
   "source": [
    "#Code to print the ROC curve\n",
    "fpr, tpr, _ = metrics.roc_curve(food_review_sample.iloc[valid_index]['sentiment'],  clf.predict(lda_df.iloc[valid_index]))\n",
    "auc = metrics.roc_auc_score(food_review_sample.iloc[valid_index]['sentiment'],  clf.predict(lda_df.iloc[valid_index]))\n",
    "plt.plot(fpr, tpr, label = \"data 1, auc = \" + str(auc)) #Area under curve\n",
    "plt.legend(loc=4)\n",
    "plt.show()"
   ]
  },
  {
   "cell_type": "code",
   "execution_count": 98,
   "metadata": {},
   "outputs": [
    {
     "data": {
      "text/plain": [
       "0.7856812211052039"
      ]
     },
     "execution_count": 98,
     "metadata": {},
     "output_type": "execute_result"
    }
   ],
   "source": [
    "f1_score(food_review_sample.iloc[valid_index]['sentiment'],  clf.predict(lda_df.iloc[valid_index]), average='weighted')  "
   ]
  },
  {
   "cell_type": "markdown",
   "metadata": {},
   "source": [
    "As the decision trees give worse results than the logistic regression on the lda, we won't use it"
   ]
  },
  {
   "cell_type": "markdown",
   "metadata": {},
   "source": [
    "#### TF-IDF on the sample"
   ]
  },
  {
   "cell_type": "code",
   "execution_count": 33,
   "metadata": {
    "_uuid": "cd7c85c3c8bb2319f2bc82098cdc7ac1815c8e0c"
   },
   "outputs": [],
   "source": [
    "from nltk import FreqDist"
   ]
  },
  {
   "cell_type": "code",
   "execution_count": 34,
   "metadata": {
    "_uuid": "efcefa86cdafd0080dfd72bbcc88e721dbfe3323"
   },
   "outputs": [],
   "source": [
    "#Packages to get a TF-IDF\n",
    "from sklearn.feature_extraction.text import CountVectorizer\n",
    "from sklearn.feature_extraction.text import TfidfVectorizer"
   ]
  },
  {
   "cell_type": "code",
   "execution_count": 101,
   "metadata": {
    "_uuid": "1f05306472f6018c837c2a2a345889328399f17f"
   },
   "outputs": [],
   "source": [
    "#Creating a TF-IDF data frame\n",
    "vectorizer = TfidfVectorizer(max_df = 0.8, max_features=3000)\n",
    "tfidf = vectorizer.fit_transform(food_review_sample['review_tokens'].apply(lambda x : ' '.join(x)))"
   ]
  },
  {
   "cell_type": "code",
   "execution_count": 102,
   "metadata": {
    "_uuid": "ae24ef6b17ebb1db8926e405122a7554674f9624"
   },
   "outputs": [
    {
     "data": {
      "text/plain": [
       "(5255, 3000)"
      ]
     },
     "execution_count": 102,
     "metadata": {},
     "output_type": "execute_result"
    }
   ],
   "source": [
    "feature_names = vectorizer.get_feature_names()\n",
    "corpus_index = food_reviews.index\n",
    "tfidf_df = pd.DataFrame(tfidf.todense(), columns=feature_names)\n",
    "tfidf_df.shape"
   ]
  },
  {
   "cell_type": "code",
   "execution_count": 104,
   "metadata": {
    "_uuid": "f1407ea7247e9369f6a2f8ee322cc42d8ff14499"
   },
   "outputs": [
    {
     "name": "stdout",
     "output_type": "stream",
     "text": [
      "0.8850618458610847\n"
     ]
    }
   ],
   "source": [
    "#Performing logistic regression with 10-fold CV\n",
    "predicted = cross_validation.cross_val_predict(LogisticRegression(), tfidf_df, food_review_sample['sentiment'], cv=10)\n",
    "print(metrics.accuracy_score(food_review_sample['sentiment'], predicted))"
   ]
  },
  {
   "cell_type": "markdown",
   "metadata": {},
   "source": [
    "88.506% Accuracy"
   ]
  },
  {
   "cell_type": "code",
   "execution_count": 38,
   "metadata": {
    "scrolled": true
   },
   "outputs": [
    {
     "data": {
      "image/png": "[encoded data removed]",
      "text/plain": [
       "<Figure size 432x288 with 1 Axes>"
      ]
     },
     "metadata": {},
     "output_type": "display_data"
    }
   ],
   "source": [
    "#Code to print the ROC curve\n",
    "fpr, tpr, _ = metrics.roc_curve(food_review_sample['sentiment'],  predicted)\n",
    "auc = metrics.roc_auc_score(food_review_sample['sentiment'], predicted)\n",
    "plt.plot(fpr, tpr, label = \"data 1, auc = \" + str(auc)) #Area under curve\n",
    "plt.legend(loc=4)\n",
    "plt.show()"
   ]
  },
  {
   "cell_type": "code",
   "execution_count": 105,
   "metadata": {},
   "outputs": [
    {
     "data": {
      "text/plain": [
       "0.8555072387876403"
      ]
     },
     "execution_count": 105,
     "metadata": {},
     "output_type": "execute_result"
    }
   ],
   "source": [
    "f1_score(food_review_sample['sentiment'], predicted, average='weighted')  "
   ]
  },
  {
   "cell_type": "code",
   "execution_count": 118,
   "metadata": {
    "_uuid": "f1407ea7247e9369f6a2f8ee322cc42d8ff14499"
   },
   "outputs": [
    {
     "name": "stdout",
     "output_type": "stream",
     "text": [
      "0.8858230256898192\n"
     ]
    }
   ],
   "source": [
    "#Performing logistic regression with 10-fold CV with adding helpfulness score as well\n",
    "predicted = cross_validation.cross_val_predict(LogisticRegression(), pd.concat([tfidf_df.reset_index(drop=True), food_review_sample['helpfulness_score']], axis=1), food_review_sample['sentiment'], cv=10)\n",
    "print(metrics.accuracy_score(food_review_sample['sentiment'], predicted))"
   ]
  },
  {
   "cell_type": "markdown",
   "metadata": {},
   "source": [
    "88.582% Accuracy. A very slight increase on adding helpfulness score in the mix."
   ]
  },
  {
   "cell_type": "code",
   "execution_count": 119,
   "metadata": {
    "scrolled": true
   },
   "outputs": [
    {
     "data": {
      "image/png": "[encoded data removed]",
      "text/plain": [
       "<Figure size 432x288 with 1 Axes>"
      ]
     },
     "metadata": {},
     "output_type": "display_data"
    }
   ],
   "source": [
    "#Code to print the ROC curve\n",
    "fpr, tpr, _ = metrics.roc_curve(food_review_sample['sentiment'],  predicted)\n",
    "auc = metrics.roc_auc_score(food_review_sample['sentiment'], predicted)\n",
    "plt.plot(fpr, tpr, label = \"data 1, auc = \" + str(auc)) #Area under curve\n",
    "plt.legend(loc=4)\n",
    "plt.show()"
   ]
  },
  {
   "cell_type": "code",
   "execution_count": 120,
   "metadata": {},
   "outputs": [
    {
     "data": {
      "text/plain": [
       "0.8572960773775343"
      ]
     },
     "execution_count": 120,
     "metadata": {},
     "output_type": "execute_result"
    }
   ],
   "source": [
    "f1_score(food_review_sample['sentiment'], predicted, average='weighted')  "
   ]
  },
  {
   "cell_type": "code",
   "execution_count": 106,
   "metadata": {
    "scrolled": true
   },
   "outputs": [],
   "source": [
    "#TF_IDF\n",
    "clf = tree.DecisionTreeClassifier()\n",
    "clf = clf.fit(tfidf_df.iloc[test_index], food_review_sample.iloc[test_index]['sentiment'])"
   ]
  },
  {
   "cell_type": "code",
   "execution_count": 107,
   "metadata": {},
   "outputs": [
    {
     "data": {
      "text/plain": [
       "0.8389346861128726"
      ]
     },
     "execution_count": 107,
     "metadata": {},
     "output_type": "execute_result"
    }
   ],
   "source": [
    "metrics.accuracy_score(food_review_sample.iloc[valid_index]['sentiment'], clf.predict(tfidf_df.iloc[valid_index]))"
   ]
  },
  {
   "cell_type": "code",
   "execution_count": 108,
   "metadata": {},
   "outputs": [
    {
     "data": {
      "image/png": "[encoded data removed]",
      "text/plain": [
       "<Figure size 432x288 with 1 Axes>"
      ]
     },
     "metadata": {},
     "output_type": "display_data"
    }
   ],
   "source": [
    "#Code to print the ROC curve\n",
    "fpr, tpr, _ = metrics.roc_curve(food_review_sample.iloc[valid_index]['sentiment'],  clf.predict(tfidf_df.iloc[valid_index]))\n",
    "auc = metrics.roc_auc_score(food_review_sample.iloc[valid_index]['sentiment'],  clf.predict(tfidf_df.iloc[valid_index]))\n",
    "plt.plot(fpr, tpr, label = \"data 1, auc = \" + str(auc)) #Area under curve\n",
    "plt.legend(loc=4)\n",
    "plt.show()"
   ]
  },
  {
   "cell_type": "code",
   "execution_count": 109,
   "metadata": {},
   "outputs": [
    {
     "data": {
      "text/plain": [
       "0.8378781580156373"
      ]
     },
     "execution_count": 109,
     "metadata": {},
     "output_type": "execute_result"
    }
   ],
   "source": [
    "f1_score(food_review_sample.iloc[valid_index]['sentiment'],  clf.predict(tfidf_df.iloc[valid_index]), average='weighted')  "
   ]
  },
  {
   "cell_type": "markdown",
   "metadata": {},
   "source": [
    "As the decision trees give worse results than the logistic regression on the TF-IDF as well, we won't use it"
   ]
  },
  {
   "cell_type": "code",
   "execution_count": 40,
   "metadata": {},
   "outputs": [],
   "source": [
    "lda_df.index = range(0, len(lda_df))"
   ]
  },
  {
   "cell_type": "markdown",
   "metadata": {},
   "source": [
    "#### Combining TF-IDF and LDA"
   ]
  },
  {
   "cell_type": "code",
   "execution_count": 41,
   "metadata": {},
   "outputs": [
    {
     "name": "stdout",
     "output_type": "stream",
     "text": [
      "0.89058039961941\n"
     ]
    }
   ],
   "source": [
    "#Performing logistic regression with 10-fold CV\n",
    "predicted = cross_validation.cross_val_predict(LogisticRegression(), pd.concat([tfidf_df.reset_index(drop=True), lda_df], axis=1), food_review_sample['sentiment'], cv=10)\n",
    "print(metrics.accuracy_score(food_review_sample['sentiment'], predicted))"
   ]
  },
  {
   "cell_type": "markdown",
   "metadata": {},
   "source": [
    "89% Accuracy. Slight increase."
   ]
  },
  {
   "cell_type": "code",
   "execution_count": 42,
   "metadata": {},
   "outputs": [
    {
     "data": {
      "image/png": "[encoded data removed]",
      "text/plain": [
       "<Figure size 432x288 with 1 Axes>"
      ]
     },
     "metadata": {},
     "output_type": "display_data"
    }
   ],
   "source": [
    "#Code to print the ROC curve\n",
    "fpr, tpr, _ = metrics.roc_curve(food_review_sample['sentiment'],  predicted)\n",
    "auc = metrics.roc_auc_score(food_review_sample['sentiment'], predicted)\n",
    "plt.plot(fpr, tpr, label = \"data 1, auc = \" + str(auc)) #Area under curve\n",
    "plt.legend(loc=4)\n",
    "plt.show()"
   ]
  },
  {
   "cell_type": "code",
   "execution_count": 43,
   "metadata": {},
   "outputs": [
    {
     "data": {
      "text/plain": [
       "0.8685832199782046"
      ]
     },
     "execution_count": 43,
     "metadata": {},
     "output_type": "execute_result"
    }
   ],
   "source": [
    "f1_score(food_review_sample['sentiment'], predicted, average='weighted')  "
   ]
  },
  {
   "cell_type": "markdown",
   "metadata": {},
   "source": [
    "#### Using bigram word2vec"
   ]
  },
  {
   "cell_type": "code",
   "execution_count": 44,
   "metadata": {},
   "outputs": [],
   "source": [
    "#Packages to get a bigram word2vec\n",
    "from gensim.models.phrases import Phrases, Phraser"
   ]
  },
  {
   "cell_type": "code",
   "execution_count": 45,
   "metadata": {},
   "outputs": [],
   "source": [
    "bigram = Phrases(list(food_review_sample['review_tokens']), min_count=1, threshold=2, delimiter=b' ')\n",
    "bigram_phraser = Phraser(bigram)\n",
    "food_review_sample['review_tokens'] = bigram_phraser[list(food_review_sample['review_tokens'])]"
   ]
  },
  {
   "cell_type": "code",
   "execution_count": 46,
   "metadata": {
    "_uuid": "86d3ad0ec3c8eab60c1272d31c14a1c57cb59a1a"
   },
   "outputs": [],
   "source": [
    "model = Word2Vec(food_review_sample.review_tokens, size=100, window=5, min_count=1, workers=4)"
   ]
  },
  {
   "cell_type": "code",
   "execution_count": 47,
   "metadata": {
    "_uuid": "9a92f89eed253e371cc24afbb32e2d15c9ee4480"
   },
   "outputs": [],
   "source": [
    "def get_mean(x):\n",
    "    # Gets the mean of the sentence so that the sentence is represented in the 100-d space\n",
    "    x = pd.DataFrame(x)\n",
    "    return x.mean()\n",
    "\n",
    "def get_sum(x):\n",
    "    # Gets the sum of the sentence so that the sentence is represented in the 100-d space\n",
    "    x = pd.DataFrame(x)\n",
    "    return x.sum()\n",
    "    "
   ]
  },
  {
   "cell_type": "code",
   "execution_count": 48,
   "metadata": {
    "_uuid": "7343eefb3af654ae5fd7233d7f8209c1058a758b"
   },
   "outputs": [],
   "source": [
    "food_review_sample.index = range(food_review_sample.shape[0]) "
   ]
  },
  {
   "cell_type": "code",
   "execution_count": 49,
   "metadata": {
    "_uuid": "7658ff34089af55151c910cf917cbb5f4ea53335"
   },
   "outputs": [
    {
     "name": "stderr",
     "output_type": "stream",
     "text": [
      "C:\\ProgramData\\Anaconda3\\lib\\site-packages\\ipykernel_launcher.py:3: DeprecationWarning: Call to deprecated `__getitem__` (Method will be removed in 4.0.0, use self.wv.__getitem__() instead).\n",
      "  This is separate from the ipykernel package so we can avoid doing imports until\n"
     ]
    }
   ],
   "source": [
    "df_model_avg = []\n",
    "for i in range(0, len(food_review_sample)):\n",
    "    #Getting the average over the 100 dimensions\n",
    "    df_model_avg.append(get_mean(model[food_review_sample.review_tokens[i]]))\n",
    "    \n",
    "df_model_avg = pd.DataFrame(df_model_avg)    "
   ]
  },
  {
   "cell_type": "code",
   "execution_count": 50,
   "metadata": {
    "_uuid": "e078d9fa657cbf98fdda1c499c965a6c3a923dd3"
   },
   "outputs": [
    {
     "name": "stderr",
     "output_type": "stream",
     "text": [
      "C:\\ProgramData\\Anaconda3\\lib\\site-packages\\ipykernel_launcher.py:3: DeprecationWarning: Call to deprecated `__getitem__` (Method will be removed in 4.0.0, use self.wv.__getitem__() instead).\n",
      "  This is separate from the ipykernel package so we can avoid doing imports until\n"
     ]
    }
   ],
   "source": [
    "df_model_sum = []\n",
    "for i in range(0, len(food_review_sample)):\n",
    "    #Getting the sum over the 100 dimensions\n",
    "    df_model_sum.append(get_sum(model[food_review_sample.review_tokens[i]]))\n",
    "    \n",
    "df_model_sum = pd.DataFrame(df_model_sum)    "
   ]
  },
  {
   "cell_type": "code",
   "execution_count": 51,
   "metadata": {
    "_uuid": "bb5d38610b64fd0b5ac8071ae5c5055c3c573970"
   },
   "outputs": [
    {
     "name": "stdout",
     "output_type": "stream",
     "text": [
      "0.8498572787821123\n"
     ]
    }
   ],
   "source": [
    "#Performing logistic regression with 10-fold CV\n",
    "predicted = cross_validation.cross_val_predict(LogisticRegression(), df_model_avg, food_review_sample['sentiment'], cv=10)\n",
    "print(metrics.accuracy_score(food_review_sample['sentiment'], predicted))"
   ]
  },
  {
   "cell_type": "markdown",
   "metadata": {
    "_uuid": "049b3c48b227f97946b93d4bd94ad29165dfbe1b"
   },
   "source": [
    "Accuracy of this is 84.98%."
   ]
  },
  {
   "cell_type": "code",
   "execution_count": 53,
   "metadata": {},
   "outputs": [
    {
     "data": {
      "image/png": "[encoded data removed]",
      "text/plain": [
       "<Figure size 432x288 with 1 Axes>"
      ]
     },
     "metadata": {},
     "output_type": "display_data"
    }
   ],
   "source": [
    "#Code to print the ROC curve\n",
    "fpr, tpr, _ = metrics.roc_curve(food_review_sample['sentiment'],  predicted)\n",
    "auc = metrics.roc_auc_score(food_review_sample['sentiment'], predicted)\n",
    "plt.plot(fpr, tpr, label = \"data 1, auc = \" + str(auc)) #Area under curve\n",
    "plt.legend(loc=4)\n",
    "plt.show()"
   ]
  },
  {
   "cell_type": "code",
   "execution_count": 54,
   "metadata": {},
   "outputs": [
    {
     "name": "stderr",
     "output_type": "stream",
     "text": [
      "C:\\ProgramData\\Anaconda3\\lib\\site-packages\\sklearn\\metrics\\classification.py:1135: UndefinedMetricWarning: F-score is ill-defined and being set to 0.0 in labels with no predicted samples.\n",
      "  'precision', 'predicted', average, warn_for)\n"
     ]
    },
    {
     "data": {
      "text/plain": [
       "0.7808790468143018"
      ]
     },
     "execution_count": 54,
     "metadata": {},
     "output_type": "execute_result"
    }
   ],
   "source": [
    "f1_score(food_review_sample['sentiment'], predicted, average='weighted')  "
   ]
  },
  {
   "cell_type": "code",
   "execution_count": 55,
   "metadata": {
    "_uuid": "330463d0148bccea6fd8f1cf5a4275cc2aa3cad9"
   },
   "outputs": [
    {
     "name": "stdout",
     "output_type": "stream",
     "text": [
      "0.850047573739296\n"
     ]
    }
   ],
   "source": [
    "#Performing logistic regression with 10-fold CV\n",
    "predicted = cross_validation.cross_val_predict(LogisticRegression(), df_model_sum, food_review_sample['sentiment'], cv=10)\n",
    "print(metrics.accuracy_score(food_review_sample['sentiment'], predicted))"
   ]
  },
  {
   "cell_type": "markdown",
   "metadata": {
    "_uuid": "049b3c48b227f97946b93d4bd94ad29165dfbe1b"
   },
   "source": [
    "Accuracy of this is 85%."
   ]
  },
  {
   "cell_type": "code",
   "execution_count": 56,
   "metadata": {},
   "outputs": [
    {
     "data": {
      "image/png": "[encoded data removed]",
      "text/plain": [
       "<Figure size 432x288 with 1 Axes>"
      ]
     },
     "metadata": {},
     "output_type": "display_data"
    }
   ],
   "source": [
    "#Code to print the ROC curve\n",
    "fpr, tpr, _ = metrics.roc_curve(food_review_sample['sentiment'],  predicted)\n",
    "auc = metrics.roc_auc_score(food_review_sample['sentiment'], predicted)\n",
    "plt.plot(fpr, tpr, label = \"data 1, auc = \" + str(auc)) #Area under curve\n",
    "plt.legend(loc=4)\n",
    "plt.show()"
   ]
  },
  {
   "cell_type": "code",
   "execution_count": 57,
   "metadata": {},
   "outputs": [
    {
     "data": {
      "text/plain": [
       "0.7862667962520725"
      ]
     },
     "execution_count": 57,
     "metadata": {},
     "output_type": "execute_result"
    }
   ],
   "source": [
    "f1_score(food_review_sample['sentiment'], predicted, average='weighted')  "
   ]
  },
  {
   "cell_type": "markdown",
   "metadata": {},
   "source": [
    "#### Combining TF-IDF, Word2Vec and LDA"
   ]
  },
  {
   "cell_type": "code",
   "execution_count": 58,
   "metadata": {},
   "outputs": [
    {
     "name": "stdout",
     "output_type": "stream",
     "text": [
      "0.8913415794481446\n"
     ]
    }
   ],
   "source": [
    "#Performing logistic regression with 10-fold CV\n",
    "predicted = cross_validation.cross_val_predict(LogisticRegression(), pd.concat([tfidf_df.reset_index(drop=True), lda_df, df_model_avg], axis=1), food_review_sample['sentiment'], cv=10)\n",
    "print(metrics.accuracy_score(food_review_sample['sentiment'], predicted))"
   ]
  },
  {
   "cell_type": "markdown",
   "metadata": {
    "_uuid": "049b3c48b227f97946b93d4bd94ad29165dfbe1b"
   },
   "source": [
    "Accuracy of this is 89.13%."
   ]
  },
  {
   "cell_type": "code",
   "execution_count": 59,
   "metadata": {},
   "outputs": [
    {
     "data": {
      "image/png": "[encoded data removed]",
      "text/plain": [
       "<Figure size 432x288 with 1 Axes>"
      ]
     },
     "metadata": {},
     "output_type": "display_data"
    }
   ],
   "source": [
    "#Code to print the ROC curve\n",
    "fpr, tpr, _ = metrics.roc_curve(food_review_sample['sentiment'],  predicted)\n",
    "auc = metrics.roc_auc_score(food_review_sample['sentiment'], predicted)\n",
    "plt.plot(fpr, tpr, label = \"data 1, auc = \" + str(auc)) #Area under curve\n",
    "plt.legend(loc=4)\n",
    "plt.show()"
   ]
  },
  {
   "cell_type": "code",
   "execution_count": 60,
   "metadata": {},
   "outputs": [
    {
     "data": {
      "text/plain": [
       "0.8697657932910535"
      ]
     },
     "execution_count": 60,
     "metadata": {},
     "output_type": "execute_result"
    }
   ],
   "source": [
    "f1_score(food_review_sample['sentiment'], predicted, average='weighted')  "
   ]
  },
  {
   "cell_type": "markdown",
   "metadata": {},
   "source": [
    "#### Combining TF-IDF and Word2Vec"
   ]
  },
  {
   "cell_type": "code",
   "execution_count": 61,
   "metadata": {},
   "outputs": [
    {
     "name": "stdout",
     "output_type": "stream",
     "text": [
      "0.8858230256898192\n"
     ]
    }
   ],
   "source": [
    "#Performing logistic regression with 10-fold CV\n",
    "predicted = cross_validation.cross_val_predict(LogisticRegression(), pd.concat([tfidf_df.reset_index(drop=True), df_model_avg], axis=1), food_review_sample['sentiment'], cv=10)\n",
    "print(metrics.accuracy_score(food_review_sample['sentiment'], predicted))"
   ]
  },
  {
   "cell_type": "markdown",
   "metadata": {
    "_uuid": "049b3c48b227f97946b93d4bd94ad29165dfbe1b"
   },
   "source": [
    "Accuracy of this is 88.58%."
   ]
  },
  {
   "cell_type": "code",
   "execution_count": 62,
   "metadata": {},
   "outputs": [
    {
     "data": {
      "image/png": "[encoded data removed]",
      "text/plain": [
       "<Figure size 432x288 with 1 Axes>"
      ]
     },
     "metadata": {},
     "output_type": "display_data"
    }
   ],
   "source": [
    "#Code to print the ROC curve\n",
    "fpr, tpr, _ = metrics.roc_curve(food_review_sample['sentiment'],  predicted)\n",
    "auc = metrics.roc_auc_score(food_review_sample['sentiment'], predicted)\n",
    "plt.plot(fpr, tpr, label = \"data 1, auc = \" + str(auc)) #Area under curve\n",
    "plt.legend(loc=4)\n",
    "plt.show()"
   ]
  },
  {
   "cell_type": "code",
   "execution_count": 63,
   "metadata": {},
   "outputs": [
    {
     "data": {
      "text/plain": [
       "0.8571311076723378"
      ]
     },
     "execution_count": 63,
     "metadata": {},
     "output_type": "execute_result"
    }
   ],
   "source": [
    "f1_score(food_review_sample['sentiment'], predicted, average='weighted')  "
   ]
  },
  {
   "cell_type": "markdown",
   "metadata": {},
   "source": [
    "#### Combining LDA and Word2Vec"
   ]
  },
  {
   "cell_type": "code",
   "execution_count": 64,
   "metadata": {},
   "outputs": [
    {
     "name": "stdout",
     "output_type": "stream",
     "text": [
      "0.8607040913415794\n"
     ]
    }
   ],
   "source": [
    "#Performing logistic regression with 10-fold CV\n",
    "predicted = cross_validation.cross_val_predict(LogisticRegression(), pd.concat([lda_df.reset_index(drop=True), df_model_avg], axis=1), food_review_sample['sentiment'], cv=10)\n",
    "print(metrics.accuracy_score(food_review_sample['sentiment'], predicted))"
   ]
  },
  {
   "cell_type": "markdown",
   "metadata": {
    "_uuid": "049b3c48b227f97946b93d4bd94ad29165dfbe1b"
   },
   "source": [
    "Accuracy of this is 86.07%."
   ]
  },
  {
   "cell_type": "code",
   "execution_count": 65,
   "metadata": {
    "scrolled": true
   },
   "outputs": [
    {
     "data": {
      "image/png": "[encoded data removed]",
      "text/plain": [
       "<Figure size 432x288 with 1 Axes>"
      ]
     },
     "metadata": {},
     "output_type": "display_data"
    }
   ],
   "source": [
    "#Code to print the ROC curve\n",
    "fpr, tpr, _ = metrics.roc_curve(food_review_sample['sentiment'],  predicted)\n",
    "auc = metrics.roc_auc_score(food_review_sample['sentiment'], predicted)\n",
    "plt.plot(fpr, tpr, label = \"data 1, auc = \" + str(auc)) #Area under curve\n",
    "plt.legend(loc=4)\n",
    "plt.show()"
   ]
  },
  {
   "cell_type": "code",
   "execution_count": 66,
   "metadata": {},
   "outputs": [
    {
     "data": {
      "text/plain": [
       "0.815915031877527"
      ]
     },
     "execution_count": 66,
     "metadata": {},
     "output_type": "execute_result"
    }
   ],
   "source": [
    "f1_score(food_review_sample['sentiment'], predicted, average='weighted')  "
   ]
  },
  {
   "cell_type": "markdown",
   "metadata": {},
   "source": [
    "## Building the model on the whole of the dataset"
   ]
  },
  {
   "cell_type": "markdown",
   "metadata": {
    "_uuid": "e2a79b7005c2d2bed054c43e451c91fdf5d17528"
   },
   "source": [
    "## Text processing"
   ]
  },
  {
   "cell_type": "markdown",
   "metadata": {
    "_uuid": "31654fcc5d3d71a4a742fdfba9b4ef42a8f6ff91"
   },
   "source": [
    "#### Tokenize the words after converting the text to lower case"
   ]
  },
  {
   "cell_type": "code",
   "execution_count": 8,
   "metadata": {
    "_uuid": "268d8f694d4c8b22c4a5ad7d2dae7e84d24e0c96"
   },
   "outputs": [],
   "source": [
    "from nltk.tokenize import word_tokenize\n",
    "from gensim.models import Word2Vec\n",
    "import nltk\n",
    "#nltk.download('punkt')"
   ]
  },
  {
   "cell_type": "code",
   "execution_count": null,
   "metadata": {
    "_uuid": "93021761e7f5266f9844af0c3d638cc3532cde74"
   },
   "outputs": [],
   "source": [
    "food_reviews['review_tokens'] = food_reviews.text.str.lower().apply(lambda x: word_tokenize(x))\n",
    "#food_reviews['review_tokens'] = food_reviews.text_ext.str.lower().apply(lambda x: word_tokenize(x)) # use this..."
   ]
  },
  {
   "cell_type": "markdown",
   "metadata": {
    "_uuid": "1a32982a4c7372a22d4f6f2d3215c1fabc1b38a7"
   },
   "source": [
    "#### Remove stop words, stemming, and punctuations. "
   ]
  },
  {
   "cell_type": "code",
   "execution_count": 9,
   "metadata": {
    "_uuid": "7dde3992b851a3d83c3c33cc7eca3e3119b20645"
   },
   "outputs": [],
   "source": [
    "from nltk.stem import PorterStemmer\n",
    "from nltk.corpus import stopwords\n",
    "# nltk.download()"
   ]
  },
  {
   "cell_type": "code",
   "execution_count": null,
   "metadata": {
    "_uuid": "89c61f638bc26af3aa489a27d881ecdba02ec359"
   },
   "outputs": [],
   "source": [
    "stemmer = PorterStemmer()\n",
    "food_reviews['review_tokens'] = food_reviews['review_tokens'].apply(lambda x: [stemmer.stem(words) for words in x])"
   ]
  },
  {
   "cell_type": "code",
   "execution_count": null,
   "metadata": {
    "_uuid": "3d2f7453c5f92351c7e4e244ee48fa70678f25af"
   },
   "outputs": [],
   "source": [
    "def remove_punctuations_and_stopwords(x):\n",
    "    y = []\n",
    "    stop_words = set(stopwords.words('english'))\n",
    "    for i in range(len(x)):\n",
    "        if x[i].isalnum() and x[i] not in stop_words:\n",
    "            y.extend([x[i]])\n",
    "    return y        "
   ]
  },
  {
   "cell_type": "code",
   "execution_count": null,
   "metadata": {
    "_uuid": "7df5a26b2565cebc5103dda47876efe06565657a"
   },
   "outputs": [],
   "source": [
    "food_reviews['review_tokens'] = food_reviews['review_tokens'].apply(remove_punctuations_and_stopwords)"
   ]
  },
  {
   "cell_type": "markdown",
   "metadata": {
    "_uuid": "883f6c4da3b5c4868d75dabf156a59e90e9056fd"
   },
   "source": [
    "### Saving word2vec model. Use it load in the future."
   ]
  },
  {
   "cell_type": "code",
   "execution_count": null,
   "metadata": {
    "_uuid": "86d3ad0ec3c8eab60c1272d31c14a1c57cb59a1a"
   },
   "outputs": [],
   "source": [
    "model = Word2Vec(food_reviews.review_tokens, size=100, window=5, min_count=1, workers=4)\n",
    "model.save(\"word2vec_binary.model\")"
   ]
  },
  {
   "cell_type": "code",
   "execution_count": null,
   "metadata": {
    "_uuid": "8aa96a8050ef1a684722e82de7cf2ca3bc243733"
   },
   "outputs": [],
   "source": [
    "food_reviews['review_tokens']"
   ]
  },
  {
   "cell_type": "code",
   "execution_count": null,
   "metadata": {
    "_uuid": "a0c6e38618f6b588a52ee8b3660c454092e7da0a"
   },
   "outputs": [],
   "source": [
    "pd.DataFrame(model[food_reviews.review_tokens[0]])"
   ]
  },
  {
   "cell_type": "markdown",
   "metadata": {},
   "source": [
    "## Model Building"
   ]
  },
  {
   "cell_type": "code",
   "execution_count": null,
   "metadata": {
    "_uuid": "9a92f89eed253e371cc24afbb32e2d15c9ee4480"
   },
   "outputs": [],
   "source": [
    "def get_mean(x):\n",
    "    # Gets the mean of the sentence so that the sentence is represented in the 100-d space\n",
    "    x = pd.DataFrame(x)\n",
    "    return x.mean()\n",
    "\n",
    "def get_sum(x):\n",
    "    # Gets the sum of the sentence so that the sentence is represented in the 100-d space\n",
    "    x = pd.DataFrame(x)\n",
    "    return x.sum()\n",
    "    "
   ]
  },
  {
   "cell_type": "code",
   "execution_count": null,
   "metadata": {
    "_uuid": "7343eefb3af654ae5fd7233d7f8209c1058a758b"
   },
   "outputs": [],
   "source": [
    "food_reviews.index = range(food_reviews.shape[0]) "
   ]
  },
  {
   "cell_type": "code",
   "execution_count": null,
   "metadata": {
    "_uuid": "7658ff34089af55151c910cf917cbb5f4ea53335"
   },
   "outputs": [],
   "source": [
    "df_model_avg = []\n",
    "for i in range(0, len(food_reviews)):\n",
    "    df_model_avg.append(get_mean(model[food_reviews.review_tokens[i]]))\n",
    "    \n",
    "df_model_avg = pd.DataFrame(df_model_avg)    "
   ]
  },
  {
   "cell_type": "code",
   "execution_count": null,
   "metadata": {
    "_uuid": "e078d9fa657cbf98fdda1c499c965a6c3a923dd3"
   },
   "outputs": [],
   "source": [
    "df_model_sum = []\n",
    "for i in range(0, len(food_reviews)):\n",
    "    df_model_sum.append(get_sum(model[food_reviews.review_tokens[i]]))\n",
    "    \n",
    "df_model_sum = pd.DataFrame(df_model_sum)    "
   ]
  },
  {
   "cell_type": "markdown",
   "metadata": {
    "_uuid": "1f45dc938738ee478cf685595afd4fbb047e03c8"
   },
   "source": [
    "### Performing logistic regression and cross- validation to get the sentiment"
   ]
  },
  {
   "cell_type": "code",
   "execution_count": null,
   "metadata": {
    "_uuid": "bb5d38610b64fd0b5ac8071ae5c5055c3c573970"
   },
   "outputs": [],
   "source": [
    "predicted = cross_validation.cross_val_predict(LogisticRegression(), df_model_avg, food_reviews['sentiment'], cv=10)\n",
    "print(metrics.accuracy_score(food_reviews['sentiment'], predicted))"
   ]
  },
  {
   "cell_type": "markdown",
   "metadata": {
    "_uuid": "049b3c48b227f97946b93d4bd94ad29165dfbe1b"
   },
   "source": [
    "Accuracy of this is 90.6%"
   ]
  },
  {
   "cell_type": "code",
   "execution_count": null,
   "metadata": {
    "_uuid": "330463d0148bccea6fd8f1cf5a4275cc2aa3cad9"
   },
   "outputs": [],
   "source": [
    "predicted = cross_validation.cross_val_predict(LogisticRegression(), df_model_sum, food_reviews['sentiment'], cv=10)\n",
    "print(metrics.accuracy_score(food_reviews['sentiment'], predicted))"
   ]
  },
  {
   "cell_type": "markdown",
   "metadata": {
    "_uuid": "e7043bf87af9dcd13c710e68dfd0605db59fb4f3"
   },
   "source": [
    "Accuracy of this is 90.18%. It decreased very slightly. Going with the mean model only"
   ]
  },
  {
   "cell_type": "markdown",
   "metadata": {},
   "source": [
    "### Implementing the same on extended review"
   ]
  },
  {
   "cell_type": "code",
   "execution_count": 78,
   "metadata": {
    "_uuid": "93021761e7f5266f9844af0c3d638cc3532cde74"
   },
   "outputs": [],
   "source": [
    "food_reviews['review_tokens'] = food_reviews['text_ext'].str.lower().apply(lambda x: word_tokenize(x))"
   ]
  },
  {
   "cell_type": "markdown",
   "metadata": {
    "_uuid": "1a32982a4c7372a22d4f6f2d3215c1fabc1b38a7"
   },
   "source": [
    "#### Remove stop words, stemming, and punctuations. "
   ]
  },
  {
   "cell_type": "code",
   "execution_count": 80,
   "metadata": {
    "_uuid": "89c61f638bc26af3aa489a27d881ecdba02ec359"
   },
   "outputs": [],
   "source": [
    "stemmer = PorterStemmer()\n",
    "food_reviews['review_tokens'] = food_reviews['review_tokens'].apply(lambda x: [stemmer.stem(words) for words in x])"
   ]
  },
  {
   "cell_type": "code",
   "execution_count": null,
   "metadata": {
    "_uuid": "7df5a26b2565cebc5103dda47876efe06565657a"
   },
   "outputs": [],
   "source": [
    "food_reviews['review_tokens'] = food_reviews['review_tokens'].apply(remove_punctuations_and_stopwords)"
   ]
  },
  {
   "cell_type": "markdown",
   "metadata": {
    "_uuid": "883f6c4da3b5c4868d75dabf156a59e90e9056fd"
   },
   "source": [
    "### Saving word2vec model. Use it load in the future."
   ]
  },
  {
   "cell_type": "code",
   "execution_count": null,
   "metadata": {
    "_uuid": "86d3ad0ec3c8eab60c1272d31c14a1c57cb59a1a"
   },
   "outputs": [],
   "source": [
    "model = Word2Vec(food_reviews.review_tokens, size=100, window=5, min_count=1, workers=4)\n",
    "model.save(\"word2vec_binary_ext.model\")"
   ]
  },
  {
   "cell_type": "code",
   "execution_count": null,
   "metadata": {
    "_uuid": "9a92f89eed253e371cc24afbb32e2d15c9ee4480"
   },
   "outputs": [],
   "source": [
    "def get_mean(x):\n",
    "    # Gets the mean of the sentence so that the sentence is represented in the 100-d space\n",
    "    x = pd.DataFrame(x)\n",
    "    return x.mean()\n",
    "\n",
    "def get_sum(x):\n",
    "    # Gets the sum of the sentence so that the sentence is represented in the 100-d space\n",
    "    x = pd.DataFrame(x)\n",
    "    return x.sum()\n",
    "    "
   ]
  },
  {
   "cell_type": "code",
   "execution_count": null,
   "metadata": {
    "_uuid": "7343eefb3af654ae5fd7233d7f8209c1058a758b"
   },
   "outputs": [],
   "source": [
    "food_reviews.index = range(food_reviews.shape[0]) "
   ]
  },
  {
   "cell_type": "code",
   "execution_count": null,
   "metadata": {
    "_uuid": "7658ff34089af55151c910cf917cbb5f4ea53335"
   },
   "outputs": [],
   "source": [
    "df_model_avg = []\n",
    "for i in range(0, len(food_reviews)):\n",
    "    df_model_avg.append(get_mean(model[food_reviews.review_tokens[i]]))\n",
    "    \n",
    "df_model_avg = pd.DataFrame(df_model_avg)    "
   ]
  },
  {
   "cell_type": "code",
   "execution_count": null,
   "metadata": {
    "_uuid": "e078d9fa657cbf98fdda1c499c965a6c3a923dd3"
   },
   "outputs": [],
   "source": [
    "df_model_sum = []\n",
    "for i in range(0, len(food_reviews)):\n",
    "    df_model_sum.append(get_sum(model[food_reviews.review_tokens[i]]))\n",
    "    \n",
    "df_model_sum = pd.DataFrame(df_model_sum)    "
   ]
  },
  {
   "cell_type": "markdown",
   "metadata": {
    "_uuid": "1f45dc938738ee478cf685595afd4fbb047e03c8"
   },
   "source": [
    "#### Performing logistic regression and cross- validation to get the sentiment"
   ]
  },
  {
   "cell_type": "code",
   "execution_count": null,
   "metadata": {
    "_uuid": "bb5d38610b64fd0b5ac8071ae5c5055c3c573970"
   },
   "outputs": [],
   "source": [
    "predicted = cross_validation.cross_val_predict(LogisticRegression(), df_model_avg, food_reviews['sentiment'], cv=10)\n",
    "print(metrics.accuracy_score(food_reviews['sentiment'], predicted))"
   ]
  },
  {
   "cell_type": "markdown",
   "metadata": {
    "_uuid": "049b3c48b227f97946b93d4bd94ad29165dfbe1b"
   },
   "source": [
    "Accuracy of this is 92.14%"
   ]
  },
  {
   "cell_type": "code",
   "execution_count": null,
   "metadata": {
    "_uuid": "330463d0148bccea6fd8f1cf5a4275cc2aa3cad9"
   },
   "outputs": [],
   "source": [
    "predicted = cross_validation.cross_val_predict(LogisticRegression(), df_model_sum, food_reviews['sentiment'], cv=10)\n",
    "print(metrics.accuracy_score(food_reviews['sentiment'], predicted))"
   ]
  },
  {
   "cell_type": "markdown",
   "metadata": {
    "_uuid": "e7043bf87af9dcd13c710e68dfd0605db59fb4f3"
   },
   "source": [
    "Accuracy of this is 91.91%. It decreased very slightly. Going with the mean model."
   ]
  },
  {
   "cell_type": "markdown",
   "metadata": {},
   "source": [
    "#### Adding helphulness score as well"
   ]
  },
  {
   "cell_type": "code",
   "execution_count": 63,
   "metadata": {},
   "outputs": [
    {
     "name": "stdout",
     "output_type": "stream",
     "text": [
      "0.9215998782784002\n"
     ]
    }
   ],
   "source": [
    "predicted = cross_validation.cross_val_predict(LogisticRegression(), pd.concat([df_model_avg.reset_index(drop=True), food_reviews['helpfulness_score']], axis=1), food_reviews['sentiment'], cv=10)\n",
    "print(metrics.accuracy_score(food_reviews['sentiment'], predicted))"
   ]
  },
  {
   "cell_type": "code",
   "execution_count": 64,
   "metadata": {},
   "outputs": [],
   "source": [
    "word_2_vec_df = pd.concat([df_model_avg.reset_index(drop=True), food_reviews['helpfulness_score'], food_reviews['text_ext'].str.split().str.len()], axis=1)"
   ]
  },
  {
   "cell_type": "code",
   "execution_count": 65,
   "metadata": {},
   "outputs": [
    {
     "name": "stdout",
     "output_type": "stream",
     "text": [
      "0.9213621407786379\n"
     ]
    }
   ],
   "source": [
    "predicted = cross_validation.cross_val_predict(LogisticRegression(), word_2_vec_df, food_reviews['sentiment'], cv=10)\n",
    "print(metrics.accuracy_score(food_reviews['sentiment'], predicted))"
   ]
  },
  {
   "cell_type": "markdown",
   "metadata": {},
   "source": [
    "### Implementing bigrams"
   ]
  },
  {
   "cell_type": "code",
   "execution_count": 158,
   "metadata": {},
   "outputs": [],
   "source": [
    "from gensim.models.phrases import Phrases, Phraser"
   ]
  },
  {
   "cell_type": "code",
   "execution_count": 193,
   "metadata": {},
   "outputs": [],
   "source": [
    "bigram = Phrases(list(food_reviews['review_tokens']), min_count=1, threshold=2, delimiter=b' ')\n",
    "bigram_phraser = Phraser(bigram)\n",
    "food_reviews['review_tokens'] = bigram_phraser[list(food_reviews['review_tokens'])]"
   ]
  },
  {
   "cell_type": "markdown",
   "metadata": {
    "_uuid": "883f6c4da3b5c4868d75dabf156a59e90e9056fd"
   },
   "source": [
    "### Saving word2vec model. Use it load in the future."
   ]
  },
  {
   "cell_type": "code",
   "execution_count": 194,
   "metadata": {
    "_uuid": "86d3ad0ec3c8eab60c1272d31c14a1c57cb59a1a"
   },
   "outputs": [],
   "source": [
    "model = Word2Vec(food_reviews.review_tokens, size=100, window=5, min_count=1, workers=4)\n",
    "model.save(\"word2vec_binary_bigram.model\")"
   ]
  },
  {
   "cell_type": "code",
   "execution_count": 195,
   "metadata": {
    "_uuid": "9a92f89eed253e371cc24afbb32e2d15c9ee4480"
   },
   "outputs": [],
   "source": [
    "def get_mean(x):\n",
    "    # Gets the mean of the sentence so that the sentence is represented in the 100-d space\n",
    "    x = pd.DataFrame(x)\n",
    "    return x.mean()\n",
    "\n",
    "def get_sum(x):\n",
    "    # Gets the sum of the sentence so that the sentence is represented in the 100-d space\n",
    "    x = pd.DataFrame(x)\n",
    "    return x.sum()\n",
    "    "
   ]
  },
  {
   "cell_type": "code",
   "execution_count": 196,
   "metadata": {
    "_uuid": "7343eefb3af654ae5fd7233d7f8209c1058a758b"
   },
   "outputs": [],
   "source": [
    "food_reviews.index = range(food_reviews.shape[0]) "
   ]
  },
  {
   "cell_type": "code",
   "execution_count": 197,
   "metadata": {
    "_uuid": "7658ff34089af55151c910cf917cbb5f4ea53335"
   },
   "outputs": [
    {
     "name": "stderr",
     "output_type": "stream",
     "text": [
      "C:\\ProgramData\\Anaconda3\\lib\\site-packages\\ipykernel_launcher.py:3: DeprecationWarning: Call to deprecated `__getitem__` (Method will be removed in 4.0.0, use self.wv.__getitem__() instead).\n",
      "  This is separate from the ipykernel package so we can avoid doing imports until\n"
     ]
    }
   ],
   "source": [
    "df_model_avg = []\n",
    "for i in range(0, len(food_reviews)):\n",
    "    df_model_avg.append(get_mean(model[food_reviews.review_tokens[i]]))\n",
    "    \n",
    "df_model_avg = pd.DataFrame(df_model_avg)    "
   ]
  },
  {
   "cell_type": "code",
   "execution_count": 198,
   "metadata": {
    "_uuid": "e078d9fa657cbf98fdda1c499c965a6c3a923dd3"
   },
   "outputs": [
    {
     "name": "stderr",
     "output_type": "stream",
     "text": [
      "C:\\ProgramData\\Anaconda3\\lib\\site-packages\\ipykernel_launcher.py:3: DeprecationWarning: Call to deprecated `__getitem__` (Method will be removed in 4.0.0, use self.wv.__getitem__() instead).\n",
      "  This is separate from the ipykernel package so we can avoid doing imports until\n"
     ]
    }
   ],
   "source": [
    "df_model_sum = []\n",
    "for i in range(0, len(food_reviews)):\n",
    "    df_model_sum.append(get_sum(model[food_reviews.review_tokens[i]]))\n",
    "    \n",
    "df_model_sum = pd.DataFrame(df_model_sum)    "
   ]
  },
  {
   "cell_type": "markdown",
   "metadata": {
    "_uuid": "1f45dc938738ee478cf685595afd4fbb047e03c8"
   },
   "source": [
    "### Performing logistic regression and cross- validation to get the sentiment"
   ]
  },
  {
   "cell_type": "code",
   "execution_count": 10,
   "metadata": {
    "_uuid": "334b2d757dbc9485bf2b260276c00ae8558670ef"
   },
   "outputs": [],
   "source": [
    "from sklearn.linear_model import LogisticRegression\n",
    "from sklearn import metrics\n",
    "from sklearn import cross_validation"
   ]
  },
  {
   "cell_type": "code",
   "execution_count": 200,
   "metadata": {
    "_uuid": "bb5d38610b64fd0b5ac8071ae5c5055c3c573970"
   },
   "outputs": [
    {
     "name": "stdout",
     "output_type": "stream",
     "text": [
      "0.9227315087772685\n"
     ]
    }
   ],
   "source": [
    "predicted = cross_validation.cross_val_predict(LogisticRegression(), df_model_avg, food_reviews['sentiment'], cv=10)\n",
    "print(metrics.accuracy_score(food_reviews['sentiment'], predicted))"
   ]
  },
  {
   "cell_type": "markdown",
   "metadata": {
    "_uuid": "049b3c48b227f97946b93d4bd94ad29165dfbe1b"
   },
   "source": [
    "Accuracy of this is 92.27%, an improvement of 0.13%."
   ]
  },
  {
   "cell_type": "code",
   "execution_count": 201,
   "metadata": {
    "_uuid": "330463d0148bccea6fd8f1cf5a4275cc2aa3cad9"
   },
   "outputs": [
    {
     "name": "stdout",
     "output_type": "stream",
     "text": [
      "0.9200517316799482\n"
     ]
    }
   ],
   "source": [
    "predicted = cross_validation.cross_val_predict(LogisticRegression(), df_model_sum, food_reviews['sentiment'], cv=10)\n",
    "print(metrics.accuracy_score(food_reviews['sentiment'], predicted))"
   ]
  },
  {
   "cell_type": "markdown",
   "metadata": {},
   "source": [
    "Slight improvement as compared to the previous sum model to 92% "
   ]
  },
  {
   "cell_type": "markdown",
   "metadata": {
    "_uuid": "89cafae02ea4a02f9cfd6e195404c570df2dfb1d"
   },
   "source": [
    "### Implementing the same using TF-IDF"
   ]
  },
  {
   "cell_type": "code",
   "execution_count": 67,
   "metadata": {
    "_uuid": "cd7c85c3c8bb2319f2bc82098cdc7ac1815c8e0c"
   },
   "outputs": [],
   "source": [
    "from nltk import FreqDist"
   ]
  },
  {
   "cell_type": "code",
   "execution_count": 12,
   "metadata": {
    "_uuid": "efcefa86cdafd0080dfd72bbcc88e721dbfe3323"
   },
   "outputs": [],
   "source": [
    "from sklearn.feature_extraction.text import CountVectorizer\n",
    "from sklearn.feature_extraction.text import TfidfVectorizer"
   ]
  },
  {
   "cell_type": "code",
   "execution_count": 68,
   "metadata": {
    "_uuid": "1b65d7c13d681254d5d49e2a823be8ad16dd326d"
   },
   "outputs": [],
   "source": [
    "food_reviews['extended_review_processed'] = food_reviews['text_ext'].apply(lambda x: \" \".join(x.lower() for x in x.split()))\n",
    "stop_words = set(stopwords.words('english'))\n",
    "food_reviews['extended_review_processed'] = food_reviews['extended_review_processed'].apply(lambda x: \" \".join(x for x in x.split() if x not in stop_words))\n"
   ]
  },
  {
   "cell_type": "code",
   "execution_count": 69,
   "metadata": {
    "_uuid": "4bd61b25119e93faed597fd4cb47e61d46bc3a5f"
   },
   "outputs": [],
   "source": [
    "stemmer = PorterStemmer()\n",
    "food_reviews['extended_review_processed'] = food_reviews['extended_review_processed'].apply(lambda x: [stemmer.stem(words) for words in x.split(' ')])"
   ]
  },
  {
   "cell_type": "code",
   "execution_count": 70,
   "metadata": {
    "_uuid": "edbb671f9d1d68da9f4f5fcbe6e1481811e8ff47"
   },
   "outputs": [],
   "source": [
    "food_reviews['extended_review_processed'] = food_reviews['extended_review_processed'].apply(lambda x : ' '.join(x))"
   ]
  },
  {
   "cell_type": "code",
   "execution_count": 71,
   "metadata": {
    "_uuid": "1f05306472f6018c837c2a2a345889328399f17f"
   },
   "outputs": [],
   "source": [
    "vectorizer = TfidfVectorizer(max_df = 0.8, max_features=3000)\n",
    "tfidf = vectorizer.fit_transform(food_reviews['extended_review_processed'])\n"
   ]
  },
  {
   "cell_type": "code",
   "execution_count": 72,
   "metadata": {
    "_uuid": "ae24ef6b17ebb1db8926e405122a7554674f9624"
   },
   "outputs": [],
   "source": [
    "feature_names = vectorizer.get_feature_names()\n",
    "corpus_index = food_reviews.index\n",
    "tfidf_df = pd.DataFrame(tfidf.todense(), columns=feature_names)"
   ]
  },
  {
   "cell_type": "markdown",
   "metadata": {
    "_uuid": "4e01af0cad4d1c28f7f7dcead384a8a1732e4f0e"
   },
   "source": [
    "### Performing logistic regression and 10 fold cross- validation to get the sentiment"
   ]
  },
  {
   "cell_type": "code",
   "execution_count": 73,
   "metadata": {
    "_uuid": "b857ec266624d9db595b5526d2c226d4e17ea88f"
   },
   "outputs": [
    {
     "data": {
      "text/plain": [
       "(525535, 3000)"
      ]
     },
     "execution_count": 73,
     "metadata": {},
     "output_type": "execute_result"
    }
   ],
   "source": [
    "tfidf.shape"
   ]
  },
  {
   "cell_type": "code",
   "execution_count": 74,
   "metadata": {
    "_uuid": "f1407ea7247e9369f6a2f8ee322cc42d8ff14499"
   },
   "outputs": [
    {
     "name": "stdout",
     "output_type": "stream",
     "text": [
      "0.9385445308114588\n"
     ]
    }
   ],
   "source": [
    "predicted = cross_validation.cross_val_predict(LogisticRegression(), tfidf, food_reviews['sentiment'], cv=10)\n",
    "print(metrics.accuracy_score(food_reviews['sentiment'], predicted))"
   ]
  },
  {
   "cell_type": "markdown",
   "metadata": {
    "_uuid": "42a212a4cac481acfc6391491b0016660f0a7879"
   },
   "source": [
    "The TF-IDF method gives an accuracy of 93.85%"
   ]
  },
  {
   "cell_type": "code",
   "execution_count": 75,
   "metadata": {},
   "outputs": [
    {
     "data": {
      "image/png": "[encoded data removed]",
      "text/plain": [
       "<Figure size 432x288 with 1 Axes>"
      ]
     },
     "metadata": {},
     "output_type": "display_data"
    }
   ],
   "source": [
    "#Code to print the ROC curve\n",
    "fpr, tpr, _ = metrics.roc_curve(food_reviews['sentiment'],  predicted)\n",
    "auc = metrics.roc_auc_score(food_reviews['sentiment'], predicted)\n",
    "plt.plot(fpr, tpr, label = \"data 1, auc = \" + str(auc)) #Area under curve\n",
    "plt.legend(loc=4)\n",
    "plt.show()"
   ]
  },
  {
   "cell_type": "markdown",
   "metadata": {},
   "source": [
    "Calculating the f1-score"
   ]
  },
  {
   "cell_type": "code",
   "execution_count": 77,
   "metadata": {},
   "outputs": [
    {
     "data": {
      "text/plain": [
       "0.9365223679217642"
      ]
     },
     "execution_count": 77,
     "metadata": {},
     "output_type": "execute_result"
    }
   ],
   "source": [
    "f1_score(food_reviews['sentiment'], predicted, average='weighted')  "
   ]
  }
 ],
 "metadata": {
  "kernelspec": {
   "display_name": "Python 3",
   "language": "python",
   "name": "python3"
  },
  "language_info": {
   "codemirror_mode": {
    "name": "ipython",
    "version": 3
   },
   "file_extension": ".py",
   "mimetype": "text/x-python",
   "name": "python",
   "nbconvert_exporter": "python",
   "pygments_lexer": "ipython3",
   "version": "3.6.5"
  }
 },
 "nbformat": 4,
 "nbformat_minor": 1
}
